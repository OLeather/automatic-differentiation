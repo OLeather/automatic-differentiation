{
 "cells": [
  {
   "cell_type": "code",
   "execution_count": 6,
   "metadata": {},
   "outputs": [
    {
     "name": "stdout",
     "output_type": "stream",
     "text": [
      "248.08886973811533 404.5272890885494\n"
     ]
    }
   ],
   "source": [
    "from autodiff import *\n",
    "\n",
    "x = Var(3)\n",
    "y = Var(2)\n",
    "z = Var(5)\n",
    "\n",
    "# y = 2x + x^5 + cos(x^2)\n",
    "# y' = 2 + 5x^4 - sin(x^2)*2x\n",
    "\n",
    "w1 = plus(plus(mul(y, x), pow(x,z)), cos(pow(x, y)))\n",
    "\n",
    "print(w1.v, w1.d(x))"
   ]
  }
 ],
 "metadata": {
  "kernelspec": {
   "display_name": "base",
   "language": "python",
   "name": "python3"
  },
  "language_info": {
   "codemirror_mode": {
    "name": "ipython",
    "version": 3
   },
   "file_extension": ".py",
   "mimetype": "text/x-python",
   "name": "python",
   "nbconvert_exporter": "python",
   "pygments_lexer": "ipython3",
   "version": "3.10.9"
  },
  "orig_nbformat": 4
 },
 "nbformat": 4,
 "nbformat_minor": 2
}
